{
  "nbformat": 4,
  "nbformat_minor": 0,
  "metadata": {
    "colab": {
      "provenance": []
    },
    "kernelspec": {
      "name": "python3",
      "display_name": "Python 3"
    },
    "language_info": {
      "name": "python"
    }
  },
  "cells": [
    {
      "cell_type": "code",
      "execution_count": 5,
      "metadata": {
        "colab": {
          "base_uri": "https://localhost:8080/"
        },
        "id": "jmgJUE_IYnU-",
        "outputId": "cc6be904-10e0-4644-e13d-dfa0158fb7b8"
      },
      "outputs": [
        {
          "output_type": "stream",
          "name": "stdout",
          "text": [
            "Enter the value:2\n",
            "Enter the value:8\n",
            "10\n"
          ]
        }
      ],
      "source": [
        "a=int(input(\"Enter the value:\"))\n",
        "b=int(input(\"Enter the value:\"))\n",
        "c=a+b\n",
        "print(c)"
      ]
    }
  ]
}