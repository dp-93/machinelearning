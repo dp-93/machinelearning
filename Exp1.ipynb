{
  "nbformat": 4,
  "nbformat_minor": 0,
  "metadata": {
    "colab": {
      "provenance": [],
      "authorship_tag": "ABX9TyOwM6ezVZoUI8C93s+7KeZf",
      "include_colab_link": true
    },
    "kernelspec": {
      "name": "python3",
      "display_name": "Python 3"
    },
    "language_info": {
      "name": "python"
    }
  },
  "cells": [
    {
      "cell_type": "markdown",
      "metadata": {
        "id": "view-in-github",
        "colab_type": "text"
      },
      "source": [
        "<a href=\"https://colab.research.google.com/github/dp-93/machinelearning/blob/main/Exp1.ipynb\" target=\"_parent\"><img src=\"https://colab.research.google.com/assets/colab-badge.svg\" alt=\"Open In Colab\"/></a>"
      ]
    },
    {
      "cell_type": "code",
      "execution_count": 5,
      "metadata": {
        "colab": {
          "base_uri": "https://localhost:8080/"
        },
        "id": "jmgJUE_IYnU-",
        "outputId": "cc6be904-10e0-4644-e13d-dfa0158fb7b8"
      },
      "outputs": [
        {
          "output_type": "stream",
          "name": "stdout",
          "text": [
            "Enter the value:2\n",
            "Enter the value:8\n",
            "10\n"
          ]
        }
      ],
      "source": [
        "a=int(input(\"Enter the value:\"))\n",
        "b=int(input(\"Enter the value:\"))\n",
        "c=a+b\n",
        "print(c)"
      ]
    }
  ]
}